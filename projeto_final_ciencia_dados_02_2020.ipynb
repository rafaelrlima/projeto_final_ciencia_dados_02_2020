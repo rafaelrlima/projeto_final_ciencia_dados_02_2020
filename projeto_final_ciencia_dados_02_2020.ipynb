{
  "nbformat": 4,
  "nbformat_minor": 0,
  "metadata": {
    "colab": {
      "name": "projeto_final_ciencia_dados_02_2020.ipynb",
      "provenance": [],
      "collapsed_sections": [],
      "authorship_tag": "ABX9TyMry3VJGwBTSwlXEFnrZCWs",
      "include_colab_link": true
    },
    "kernelspec": {
      "name": "python3",
      "display_name": "Python 3"
    }
  },
  "cells": [
    {
      "cell_type": "markdown",
      "metadata": {
        "id": "view-in-github",
        "colab_type": "text"
      },
      "source": [
        "<a href=\"https://colab.research.google.com/github/wsilveira-splunk/projeto_final_ciencia_dados_02_2020/blob/master/projeto_final_ciencia_dados_02_2020.ipynb\" target=\"_parent\"><img src=\"https://colab.research.google.com/assets/colab-badge.svg\" alt=\"Open In Colab\"/></a>"
      ]
    },
    {
      "cell_type": "markdown",
      "metadata": {
        "id": "IA-uc6iJDqKn"
      },
      "source": [
        "# **Modelo de Precificação para Geração Distribuída na Rede de Distribuição de Energia**\n",
        "\n",
        "## Descrição:\n",
        "O modelo utilizado atualmente para a Geração Distribuída (geradores instalados nas redes de distribuição) não abrange os impactos que esses geradores causam na rede, tanto os bons quanto os ruins, não diferenciando a tarifa paga por estes (todos pagam a mesma tarifa independentemente da localização). O modelo locacional é construído para capturar boa parte desses impactos e, por isso é o utilizado como exemplo a ser seguido para criar uma forma de precificação justa para a geração distribuída e para a rede.\n",
        "\n",
        "O objetivo deste trabalho é propor um modelo de precificação para geração distribuída para o sistema de distribuição baseado no modelo existente de precificação do sistema de transmissão, especificamente utilizando o modelo da parcela locacional, utilizado no cálculo da tarifa de uso do sistema de transmissão, como referência.\n",
        "\n"
      ]
    },
    {
      "cell_type": "markdown",
      "metadata": {
        "id": "j5MWZSVqOr74"
      },
      "source": [
        "\n",
        "\n",
        "Clone Git Repo if it is not already cloned."
      ]
    },
    {
      "cell_type": "code",
      "metadata": {
        "colab": {
          "base_uri": "https://localhost:8080/"
        },
        "id": "ZM1tu1E7UTy9",
        "outputId": "01d9fbca-620f-4a52-f960-fdbaa6d1b973"
      },
      "source": [
        "%%bash\n",
        "\n",
        "cd /content/\n",
        "\n",
        "if [ -d \"projeto_final_ciencia_dados_02_2020\" ]; then\n",
        "    cd projeto_final_ciencia_dados_02_2020\n",
        "    git pull origin master\n",
        "    cd -\n",
        "else\n",
        "  git clone https://github.com/wsilveira-splunk/projeto_final_ciencia_dados_02_2020.git\n",
        "fi"
      ],
      "execution_count": 1,
      "outputs": [
        {
          "output_type": "stream",
          "text": [
            "Already up to date.\n",
            "/content\n"
          ],
          "name": "stdout"
        },
        {
          "output_type": "stream",
          "text": [
            "From https://github.com/wsilveira-splunk/projeto_final_ciencia_dados_02_2020\n",
            " * branch            master     -> FETCH_HEAD\n"
          ],
          "name": "stderr"
        }
      ]
    },
    {
      "cell_type": "code",
      "metadata": {
        "id": "5D5_HlubCAMN"
      },
      "source": [
        "import pandas as pd\n",
        "import matplotlib.pyplot as plt\n",
        "import seaborn as sns"
      ],
      "execution_count": 2,
      "outputs": []
    },
    {
      "cell_type": "code",
      "metadata": {
        "id": "t1CkBYhCKByQ"
      },
      "source": [
        "at_cemig_path = r'projeto_final_ciencia_dados_02_2020/dados/Geradores_at_cemig.xlsx'"
      ],
      "execution_count": 3,
      "outputs": []
    },
    {
      "cell_type": "code",
      "metadata": {
        "colab": {
          "base_uri": "https://localhost:8080/",
          "height": 204
        },
        "id": "6Qo-4V1qJzI6",
        "outputId": "10587ba9-faa1-40ce-93a8-00bb990d5112"
      },
      "source": [
        "df_at_cemig = pd.read_excel(at_cemig_path)\n",
        "df_at_cemig.head()"
      ],
      "execution_count": 4,
      "outputs": [
        {
          "output_type": "execute_result",
          "data": {
            "text/html": [
              "<div>\n",
              "<style scoped>\n",
              "    .dataframe tbody tr th:only-of-type {\n",
              "        vertical-align: middle;\n",
              "    }\n",
              "\n",
              "    .dataframe tbody tr th {\n",
              "        vertical-align: top;\n",
              "    }\n",
              "\n",
              "    .dataframe thead th {\n",
              "        text-align: right;\n",
              "    }\n",
              "</style>\n",
              "<table border=\"1\" class=\"dataframe\">\n",
              "  <thead>\n",
              "    <tr style=\"text-align: right;\">\n",
              "      <th></th>\n",
              "      <th>MUN</th>\n",
              "      <th>SUB</th>\n",
              "      <th>BRR</th>\n",
              "      <th>CEP</th>\n",
              "      <th>TEN_FORN</th>\n",
              "      <th>SIT_ATIV</th>\n",
              "      <th>POT_INST</th>\n",
              "      <th>POT_CONT</th>\n",
              "      <th>DEM_MÉDIA_P</th>\n",
              "      <th>DEM_MÉDIA_F</th>\n",
              "      <th>ENERGIA_MÉDIA_P</th>\n",
              "      <th>ENERGIA_MÉDIA_F</th>\n",
              "    </tr>\n",
              "  </thead>\n",
              "  <tbody>\n",
              "    <tr>\n",
              "      <th>0</th>\n",
              "      <td>3121258</td>\n",
              "      <td>11048462</td>\n",
              "      <td>DELTA</td>\n",
              "      <td>38108000</td>\n",
              "      <td>94</td>\n",
              "      <td>AT</td>\n",
              "      <td>108400.00</td>\n",
              "      <td>108400.00</td>\n",
              "      <td>99644.750000</td>\n",
              "      <td>99644.750000</td>\n",
              "      <td>2.838814e+07</td>\n",
              "      <td>2.076111e+07</td>\n",
              "    </tr>\n",
              "    <tr>\n",
              "      <th>1</th>\n",
              "      <td>3136306</td>\n",
              "      <td>1726735</td>\n",
              "      <td>AREA RURAL</td>\n",
              "      <td>38770000</td>\n",
              "      <td>94</td>\n",
              "      <td>AT</td>\n",
              "      <td>32608.69</td>\n",
              "      <td>32608.69</td>\n",
              "      <td>27500.000000</td>\n",
              "      <td>27500.000000</td>\n",
              "      <td>2.586648e+07</td>\n",
              "      <td>1.881045e+07</td>\n",
              "    </tr>\n",
              "    <tr>\n",
              "      <th>2</th>\n",
              "      <td>3130705</td>\n",
              "      <td>200233514</td>\n",
              "      <td>AREA URBANA</td>\n",
              "      <td>38490000</td>\n",
              "      <td>94</td>\n",
              "      <td>AT</td>\n",
              "      <td>438818.47</td>\n",
              "      <td>438818.47</td>\n",
              "      <td>403713.000000</td>\n",
              "      <td>403713.000000</td>\n",
              "      <td>2.018565e+07</td>\n",
              "      <td>1.648495e+07</td>\n",
              "    </tr>\n",
              "    <tr>\n",
              "      <th>3</th>\n",
              "      <td>3127107</td>\n",
              "      <td>1726688</td>\n",
              "      <td>AREA RURAL</td>\n",
              "      <td>38200000</td>\n",
              "      <td>94</td>\n",
              "      <td>AT</td>\n",
              "      <td>52129.34</td>\n",
              "      <td>52129.34</td>\n",
              "      <td>23417.250000</td>\n",
              "      <td>23417.250000</td>\n",
              "      <td>1.418815e+07</td>\n",
              "      <td>8.604559e+06</td>\n",
              "    </tr>\n",
              "    <tr>\n",
              "      <th>4</th>\n",
              "      <td>3103751</td>\n",
              "      <td>1726567</td>\n",
              "      <td>AREA RURAL</td>\n",
              "      <td>38465000</td>\n",
              "      <td>82</td>\n",
              "      <td>AT</td>\n",
              "      <td>32479.34</td>\n",
              "      <td>32479.34</td>\n",
              "      <td>24888.333333</td>\n",
              "      <td>24888.333333</td>\n",
              "      <td>1.333508e+07</td>\n",
              "      <td>8.675895e+06</td>\n",
              "    </tr>\n",
              "  </tbody>\n",
              "</table>\n",
              "</div>"
            ],
            "text/plain": [
              "       MUN        SUB  ... ENERGIA_MÉDIA_P  ENERGIA_MÉDIA_F\n",
              "0  3121258   11048462  ...    2.838814e+07     2.076111e+07\n",
              "1  3136306    1726735  ...    2.586648e+07     1.881045e+07\n",
              "2  3130705  200233514  ...    2.018565e+07     1.648495e+07\n",
              "3  3127107    1726688  ...    1.418815e+07     8.604559e+06\n",
              "4  3103751    1726567  ...    1.333508e+07     8.675895e+06\n",
              "\n",
              "[5 rows x 12 columns]"
            ]
          },
          "metadata": {
            "tags": []
          },
          "execution_count": 4
        }
      ]
    },
    {
      "cell_type": "code",
      "metadata": {
        "colab": {
          "base_uri": "https://localhost:8080/",
          "height": 204
        },
        "id": "tG2J5DuL5fc-",
        "outputId": "c14257e4-a7fe-4f33-c1c7-4f26e0554379"
      },
      "source": [
        "columns = ['POT_INST', 'POT_CONT', 'DEM_MÉDIA_P', 'DEM_MÉDIA_F', 'ENERGIA_MÉDIA_P', 'ENERGIA_MÉDIA_F']\n",
        "\n",
        "def normalize(df, columns):\n",
        "    result = df.copy()\n",
        "    max_value = df[columns].max()\n",
        "    min_value = df[columns].min()\n",
        "    result[columns] = (df[columns] - min_value) / (max_value - min_value)\n",
        "    return result\n",
        "\n",
        "df_at_cemig_norm = normalize(df_at_cemig, columns)\n",
        "df_at_cemig_norm.head()\n"
      ],
      "execution_count": 5,
      "outputs": [
        {
          "output_type": "execute_result",
          "data": {
            "text/html": [
              "<div>\n",
              "<style scoped>\n",
              "    .dataframe tbody tr th:only-of-type {\n",
              "        vertical-align: middle;\n",
              "    }\n",
              "\n",
              "    .dataframe tbody tr th {\n",
              "        vertical-align: top;\n",
              "    }\n",
              "\n",
              "    .dataframe thead th {\n",
              "        text-align: right;\n",
              "    }\n",
              "</style>\n",
              "<table border=\"1\" class=\"dataframe\">\n",
              "  <thead>\n",
              "    <tr style=\"text-align: right;\">\n",
              "      <th></th>\n",
              "      <th>MUN</th>\n",
              "      <th>SUB</th>\n",
              "      <th>BRR</th>\n",
              "      <th>CEP</th>\n",
              "      <th>TEN_FORN</th>\n",
              "      <th>SIT_ATIV</th>\n",
              "      <th>POT_INST</th>\n",
              "      <th>POT_CONT</th>\n",
              "      <th>DEM_MÉDIA_P</th>\n",
              "      <th>DEM_MÉDIA_F</th>\n",
              "      <th>ENERGIA_MÉDIA_P</th>\n",
              "      <th>ENERGIA_MÉDIA_F</th>\n",
              "    </tr>\n",
              "  </thead>\n",
              "  <tbody>\n",
              "    <tr>\n",
              "      <th>0</th>\n",
              "      <td>3121258</td>\n",
              "      <td>11048462</td>\n",
              "      <td>DELTA</td>\n",
              "      <td>38108000</td>\n",
              "      <td>94</td>\n",
              "      <td>AT</td>\n",
              "      <td>0.233799</td>\n",
              "      <td>0.233799</td>\n",
              "      <td>0.245736</td>\n",
              "      <td>0.245736</td>\n",
              "      <td>1.000000</td>\n",
              "      <td>1.000000</td>\n",
              "    </tr>\n",
              "    <tr>\n",
              "      <th>1</th>\n",
              "      <td>3136306</td>\n",
              "      <td>1726735</td>\n",
              "      <td>AREA RURAL</td>\n",
              "      <td>38770000</td>\n",
              "      <td>94</td>\n",
              "      <td>AT</td>\n",
              "      <td>0.058048</td>\n",
              "      <td>0.058048</td>\n",
              "      <td>0.066775</td>\n",
              "      <td>0.066775</td>\n",
              "      <td>0.853292</td>\n",
              "      <td>0.839538</td>\n",
              "    </tr>\n",
              "    <tr>\n",
              "      <th>2</th>\n",
              "      <td>3130705</td>\n",
              "      <td>200233514</td>\n",
              "      <td>AREA URBANA</td>\n",
              "      <td>38490000</td>\n",
              "      <td>94</td>\n",
              "      <td>AT</td>\n",
              "      <td>1.000000</td>\n",
              "      <td>1.000000</td>\n",
              "      <td>1.000000</td>\n",
              "      <td>1.000000</td>\n",
              "      <td>0.522784</td>\n",
              "      <td>0.648242</td>\n",
              "    </tr>\n",
              "    <tr>\n",
              "      <th>3</th>\n",
              "      <td>3127107</td>\n",
              "      <td>1726688</td>\n",
              "      <td>AREA RURAL</td>\n",
              "      <td>38200000</td>\n",
              "      <td>94</td>\n",
              "      <td>AT</td>\n",
              "      <td>0.103314</td>\n",
              "      <td>0.103314</td>\n",
              "      <td>0.056647</td>\n",
              "      <td>0.056647</td>\n",
              "      <td>0.173852</td>\n",
              "      <td>0.000000</td>\n",
              "    </tr>\n",
              "    <tr>\n",
              "      <th>4</th>\n",
              "      <td>3103751</td>\n",
              "      <td>1726567</td>\n",
              "      <td>AREA RURAL</td>\n",
              "      <td>38465000</td>\n",
              "      <td>82</td>\n",
              "      <td>AT</td>\n",
              "      <td>0.057748</td>\n",
              "      <td>0.057748</td>\n",
              "      <td>0.060297</td>\n",
              "      <td>0.060297</td>\n",
              "      <td>0.124221</td>\n",
              "      <td>0.005868</td>\n",
              "    </tr>\n",
              "  </tbody>\n",
              "</table>\n",
              "</div>"
            ],
            "text/plain": [
              "       MUN        SUB  ... ENERGIA_MÉDIA_P  ENERGIA_MÉDIA_F\n",
              "0  3121258   11048462  ...        1.000000         1.000000\n",
              "1  3136306    1726735  ...        0.853292         0.839538\n",
              "2  3130705  200233514  ...        0.522784         0.648242\n",
              "3  3127107    1726688  ...        0.173852         0.000000\n",
              "4  3103751    1726567  ...        0.124221         0.005868\n",
              "\n",
              "[5 rows x 12 columns]"
            ]
          },
          "metadata": {
            "tags": []
          },
          "execution_count": 5
        }
      ]
    },
    {
      "cell_type": "code",
      "metadata": {
        "colab": {
          "base_uri": "https://localhost:8080/",
          "height": 330
        },
        "id": "yC52ohe_4wKa",
        "outputId": "e3b262f8-6f60-4b0e-888e-8499b6750065"
      },
      "source": [
        "plt.figure(1)\n",
        "plt.xticks(rotation=45)\n",
        "\n",
        "sns.set_style(\"whitegrid\")\n",
        "ax = sns.boxplot(data=df_at_cemig_norm,\n",
        "                 order=columns,\n",
        "                 width=0.60)"
      ],
      "execution_count": 14,
      "outputs": [
        {
          "output_type": "display_data",
          "data": {
            "image/png": "[encoded data removed]",
            "text/plain": [
              "<Figure size 432x288 with 1 Axes>"
            ]
          },
          "metadata": {
            "tags": []
          }
        }
      ]
    }
  ]
}