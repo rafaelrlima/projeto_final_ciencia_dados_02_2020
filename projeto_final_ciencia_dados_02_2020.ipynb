{
  "nbformat": 4,
  "nbformat_minor": 0,
  "metadata": {
    "colab": {
      "name": "projeto_final_ciencia_dados_02_2020.ipynb",
      "provenance": [],
      "collapsed_sections": [],
      "toc_visible": true,
      "authorship_tag": "ABX9TyMleZz6ophKGtMQaNJHXVsh",
      "include_colab_link": true
    },
    "kernelspec": {
      "name": "python3",
      "display_name": "Python 3"
    }
  },
  "cells": [
    {
      "cell_type": "markdown",
      "metadata": {
        "id": "view-in-github",
        "colab_type": "text"
      },
      "source": [
        "<a href=\"https://colab.research.google.com/github/wsilveira-splunk/projeto_final_ciencia_dados_02_2020/blob/master/projeto_final_ciencia_dados_02_2020.ipynb\" target=\"_parent\"><img src=\"https://colab.research.google.com/assets/colab-badge.svg\" alt=\"Open In Colab\"/></a>"
      ]
    },
    {
      "cell_type": "markdown",
      "metadata": {
        "id": "IA-uc6iJDqKn"
      },
      "source": [
        "# **Modelo de Precificação para Geração Distribuída na Rede de Distribuição de Energia**\n",
        "\n",
        "## Descrição:\n",
        "O modelo utilizado atualmente para a Geração Distribuída (geradores instalados nas redes de distribuição) não abrange os impactos que esses geradores causam na rede, tanto os bons quanto os ruins, não diferenciando a tarifa paga por estes (todos pagam a mesma tarifa independentemente da localização). O modelo locacional é construído para capturar boa parte desses impactos e, por isso é o utilizado como exemplo a ser seguido para criar uma forma de precificação justa para a geração distribuída e para a rede.\n",
        "\n",
        "O objetivo deste trabalho é propor um modelo de precificação para geração distribuída para o sistema de distribuição baseado no modelo existente de precificação do sistema de transmissão, especificamente utilizando o modelo da parcela locacional, utilizado no cálculo da tarifa de uso do sistema de transmissão, como referência.\n",
        "\n"
      ]
    },
    {
      "cell_type": "markdown",
      "metadata": {
        "id": "j5MWZSVqOr74"
      },
      "source": [
        "\n",
        "\n",
        "Clone Git Repo if it is not already cloned."
      ]
    },
    {
      "cell_type": "code",
      "metadata": {
        "colab": {
          "base_uri": "https://localhost:8080/"
        },
        "id": "ZM1tu1E7UTy9",
        "outputId": "c7ef3b22-db21-43bb-ad32-6cd54c56e859"
      },
      "source": [
        "%%bash\n",
        "\n",
        "cd /content/\n",
        "\n",
        "if [ -d \"projeto_final_ciencia_dados_02_2020\" ]; then\n",
        "    cd projeto_final_ciencia_dados_02_2020\n",
        "    git pull origin master\n",
        "    cd -\n",
        "else\n",
        "  git clone https://github.com/wsilveira-splunk/projeto_final_ciencia_dados_02_2020.git\n",
        "fi"
      ],
      "execution_count": 1,
      "outputs": [
        {
          "output_type": "stream",
          "text": [
            "Already up to date.\n",
            "/content\n"
          ],
          "name": "stdout"
        },
        {
          "output_type": "stream",
          "text": [
            "From https://github.com/wsilveira-splunk/projeto_final_ciencia_dados_02_2020\n",
            " * branch            master     -> FETCH_HEAD\n"
          ],
          "name": "stderr"
        }
      ]
    },
    {
      "cell_type": "code",
      "metadata": {
        "id": "5D5_HlubCAMN"
      },
      "source": [
        "import pandas as pd\n",
        "import matplotlib.pyplot as plt\n",
        "import seaborn as sns"
      ],
      "execution_count": 2,
      "outputs": []
    },
    {
      "cell_type": "code",
      "metadata": {
        "id": "t1CkBYhCKByQ"
      },
      "source": [
        "at_cemig_path = r'projeto_final_ciencia_dados_02_2020/dados/Geradores_at_cemig.xlsx'\n",
        "bt_cemig_path = r'projeto_final_ciencia_dados_02_2020/dados/Geradores_bt_cemig1.xlsx'\n",
        "mt_cemig_path = r'projeto_final_ciencia_dados_02_2020/dados/Geradores_mt_cemig.xlsx'"
      ],
      "execution_count": 3,
      "outputs": []
    },
    {
      "cell_type": "code",
      "metadata": {
        "colab": {
          "base_uri": "https://localhost:8080/",
          "height": 204
        },
        "id": "6Qo-4V1qJzI6",
        "outputId": "4f533e41-14cc-4017-8123-79d459cf5ddb"
      },
      "source": [
        "df_at_cemig = pd.read_excel(at_cemig_path)\n",
        "df_at_cemig.head()"
      ],
      "execution_count": 4,
      "outputs": [
        {
          "output_type": "execute_result",
          "data": {
            "text/html": [
              "<div>\n",
              "<style scoped>\n",
              "    .dataframe tbody tr th:only-of-type {\n",
              "        vertical-align: middle;\n",
              "    }\n",
              "\n",
              "    .dataframe tbody tr th {\n",
              "        vertical-align: top;\n",
              "    }\n",
              "\n",
              "    .dataframe thead th {\n",
              "        text-align: right;\n",
              "    }\n",
              "</style>\n",
              "<table border=\"1\" class=\"dataframe\">\n",
              "  <thead>\n",
              "    <tr style=\"text-align: right;\">\n",
              "      <th></th>\n",
              "      <th>MUN</th>\n",
              "      <th>SUB</th>\n",
              "      <th>BRR</th>\n",
              "      <th>CEP</th>\n",
              "      <th>TEN_FORN</th>\n",
              "      <th>SIT_ATIV</th>\n",
              "      <th>POT_INST</th>\n",
              "      <th>POT_CONT</th>\n",
              "      <th>DEM_MÉDIA_P</th>\n",
              "      <th>DEM_MÉDIA_F</th>\n",
              "      <th>ENERGIA_MÉDIA_P</th>\n",
              "      <th>ENERGIA_MÉDIA_F</th>\n",
              "    </tr>\n",
              "  </thead>\n",
              "  <tbody>\n",
              "    <tr>\n",
              "      <th>0</th>\n",
              "      <td>3121258</td>\n",
              "      <td>11048462</td>\n",
              "      <td>DELTA</td>\n",
              "      <td>38108000</td>\n",
              "      <td>94</td>\n",
              "      <td>AT</td>\n",
              "      <td>108400.00</td>\n",
              "      <td>108400.00</td>\n",
              "      <td>99644.750000</td>\n",
              "      <td>99644.750000</td>\n",
              "      <td>2.838814e+07</td>\n",
              "      <td>2.076111e+07</td>\n",
              "    </tr>\n",
              "    <tr>\n",
              "      <th>1</th>\n",
              "      <td>3136306</td>\n",
              "      <td>1726735</td>\n",
              "      <td>AREA RURAL</td>\n",
              "      <td>38770000</td>\n",
              "      <td>94</td>\n",
              "      <td>AT</td>\n",
              "      <td>32608.69</td>\n",
              "      <td>32608.69</td>\n",
              "      <td>27500.000000</td>\n",
              "      <td>27500.000000</td>\n",
              "      <td>2.586648e+07</td>\n",
              "      <td>1.881045e+07</td>\n",
              "    </tr>\n",
              "    <tr>\n",
              "      <th>2</th>\n",
              "      <td>3130705</td>\n",
              "      <td>200233514</td>\n",
              "      <td>AREA URBANA</td>\n",
              "      <td>38490000</td>\n",
              "      <td>94</td>\n",
              "      <td>AT</td>\n",
              "      <td>438818.47</td>\n",
              "      <td>438818.47</td>\n",
              "      <td>403713.000000</td>\n",
              "      <td>403713.000000</td>\n",
              "      <td>2.018565e+07</td>\n",
              "      <td>1.648495e+07</td>\n",
              "    </tr>\n",
              "    <tr>\n",
              "      <th>3</th>\n",
              "      <td>3127107</td>\n",
              "      <td>1726688</td>\n",
              "      <td>AREA RURAL</td>\n",
              "      <td>38200000</td>\n",
              "      <td>94</td>\n",
              "      <td>AT</td>\n",
              "      <td>52129.34</td>\n",
              "      <td>52129.34</td>\n",
              "      <td>23417.250000</td>\n",
              "      <td>23417.250000</td>\n",
              "      <td>1.418815e+07</td>\n",
              "      <td>8.604559e+06</td>\n",
              "    </tr>\n",
              "    <tr>\n",
              "      <th>4</th>\n",
              "      <td>3103751</td>\n",
              "      <td>1726567</td>\n",
              "      <td>AREA RURAL</td>\n",
              "      <td>38465000</td>\n",
              "      <td>82</td>\n",
              "      <td>AT</td>\n",
              "      <td>32479.34</td>\n",
              "      <td>32479.34</td>\n",
              "      <td>24888.333333</td>\n",
              "      <td>24888.333333</td>\n",
              "      <td>1.333508e+07</td>\n",
              "      <td>8.675895e+06</td>\n",
              "    </tr>\n",
              "  </tbody>\n",
              "</table>\n",
              "</div>"
            ],
            "text/plain": [
              "       MUN        SUB  ... ENERGIA_MÉDIA_P  ENERGIA_MÉDIA_F\n",
              "0  3121258   11048462  ...    2.838814e+07     2.076111e+07\n",
              "1  3136306    1726735  ...    2.586648e+07     1.881045e+07\n",
              "2  3130705  200233514  ...    2.018565e+07     1.648495e+07\n",
              "3  3127107    1726688  ...    1.418815e+07     8.604559e+06\n",
              "4  3103751    1726567  ...    1.333508e+07     8.675895e+06\n",
              "\n",
              "[5 rows x 12 columns]"
            ]
          },
          "metadata": {
            "tags": []
          },
          "execution_count": 4
        }
      ]
    },
    {
      "cell_type": "code",
      "metadata": {
        "id": "GuWI2aJdC9zM",
        "outputId": "93924c58-e1f2-40b3-a92d-8036925afad0",
        "colab": {
          "base_uri": "https://localhost:8080/",
          "height": 204
        }
      },
      "source": [
        "df_bt_cemig = pd.read_excel(bt_cemig_path)\n",
        "df_bt_cemig.head()"
      ],
      "execution_count": 5,
      "outputs": [
        {
          "output_type": "execute_result",
          "data": {
            "text/html": [
              "<div>\n",
              "<style scoped>\n",
              "    .dataframe tbody tr th:only-of-type {\n",
              "        vertical-align: middle;\n",
              "    }\n",
              "\n",
              "    .dataframe tbody tr th {\n",
              "        vertical-align: top;\n",
              "    }\n",
              "\n",
              "    .dataframe thead th {\n",
              "        text-align: right;\n",
              "    }\n",
              "</style>\n",
              "<table border=\"1\" class=\"dataframe\">\n",
              "  <thead>\n",
              "    <tr style=\"text-align: right;\">\n",
              "      <th></th>\n",
              "      <th>Unnamed: 0</th>\n",
              "      <th>CONJ</th>\n",
              "      <th>MUN</th>\n",
              "      <th>BAIRRO</th>\n",
              "      <th>CEP</th>\n",
              "      <th>CNAE</th>\n",
              "      <th>FAS_CON</th>\n",
              "      <th>TEN_FORN</th>\n",
              "      <th>DAT_CON</th>\n",
              "      <th>POTÊNCIA INSTALADA (kW)</th>\n",
              "      <th>POTÊNCIA CONTRATADA (kW)</th>\n",
              "      <th>ENE_MED (kWh)</th>\n",
              "    </tr>\n",
              "  </thead>\n",
              "  <tbody>\n",
              "    <tr>\n",
              "      <th>0</th>\n",
              "      <td>2828</td>\n",
              "      <td>15236</td>\n",
              "      <td>3152501</td>\n",
              "      <td>CENTRO</td>\n",
              "      <td>37550000</td>\n",
              "      <td>85.41-4/8</td>\n",
              "      <td>ABCN</td>\n",
              "      <td>10</td>\n",
              "      <td>2017-12-25</td>\n",
              "      <td>7.61238</td>\n",
              "      <td>9.896094</td>\n",
              "      <td>3610.0</td>\n",
              "    </tr>\n",
              "    <tr>\n",
              "      <th>1</th>\n",
              "      <td>954</td>\n",
              "      <td>15295</td>\n",
              "      <td>3143401</td>\n",
              "      <td>CENTRO</td>\n",
              "      <td>37580000</td>\n",
              "      <td>55.10-8/5</td>\n",
              "      <td>ABCN</td>\n",
              "      <td>10</td>\n",
              "      <td>2016-08-05</td>\n",
              "      <td>6.09600</td>\n",
              "      <td>7.924800</td>\n",
              "      <td>10.0</td>\n",
              "    </tr>\n",
              "    <tr>\n",
              "      <th>2</th>\n",
              "      <td>7217</td>\n",
              "      <td>15124</td>\n",
              "      <td>3106200</td>\n",
              "      <td>CONJUNTO SANTA MARIA</td>\n",
              "      <td>30380457</td>\n",
              "      <td>64.93-0/6</td>\n",
              "      <td>ABCN</td>\n",
              "      <td>10</td>\n",
              "      <td>2016-09-29</td>\n",
              "      <td>6.09600</td>\n",
              "      <td>7.924800</td>\n",
              "      <td>770.0</td>\n",
              "    </tr>\n",
              "    <tr>\n",
              "      <th>3</th>\n",
              "      <td>7533</td>\n",
              "      <td>15121</td>\n",
              "      <td>3106200</td>\n",
              "      <td>ESTORIL</td>\n",
              "      <td>30494170</td>\n",
              "      <td>99.99-2/9</td>\n",
              "      <td>ABCN</td>\n",
              "      <td>6</td>\n",
              "      <td>2016-09-29</td>\n",
              "      <td>6.09600</td>\n",
              "      <td>7.924800</td>\n",
              "      <td>420.0</td>\n",
              "    </tr>\n",
              "    <tr>\n",
              "      <th>4</th>\n",
              "      <td>8401</td>\n",
              "      <td>15114</td>\n",
              "      <td>3107406</td>\n",
              "      <td>AREA RURAL</td>\n",
              "      <td>35600000</td>\n",
              "      <td>01.51-2/0</td>\n",
              "      <td>ABCN</td>\n",
              "      <td>10</td>\n",
              "      <td>1995-08-30</td>\n",
              "      <td>6.09600</td>\n",
              "      <td>7.924800</td>\n",
              "      <td>4670.0</td>\n",
              "    </tr>\n",
              "  </tbody>\n",
              "</table>\n",
              "</div>"
            ],
            "text/plain": [
              "   Unnamed: 0   CONJ  ...  POTÊNCIA CONTRATADA (kW) ENE_MED (kWh)\n",
              "0        2828  15236  ...                  9.896094        3610.0\n",
              "1         954  15295  ...                  7.924800          10.0\n",
              "2        7217  15124  ...                  7.924800         770.0\n",
              "3        7533  15121  ...                  7.924800         420.0\n",
              "4        8401  15114  ...                  7.924800        4670.0\n",
              "\n",
              "[5 rows x 12 columns]"
            ]
          },
          "metadata": {
            "tags": []
          },
          "execution_count": 5
        }
      ]
    },
    {
      "cell_type": "code",
      "metadata": {
        "id": "2pDcMY_ODLM5",
        "outputId": "9f8f54b9-cbf1-4e3a-a607-48293be7e2e9",
        "colab": {
          "base_uri": "https://localhost:8080/",
          "height": 204
        }
      },
      "source": [
        "df_mt_cemig = pd.read_excel(mt_cemig_path)\n",
        "df_mt_cemig.head()"
      ],
      "execution_count": 6,
      "outputs": [
        {
          "output_type": "execute_result",
          "data": {
            "text/html": [
              "<div>\n",
              "<style scoped>\n",
              "    .dataframe tbody tr th:only-of-type {\n",
              "        vertical-align: middle;\n",
              "    }\n",
              "\n",
              "    .dataframe tbody tr th {\n",
              "        vertical-align: top;\n",
              "    }\n",
              "\n",
              "    .dataframe thead th {\n",
              "        text-align: right;\n",
              "    }\n",
              "</style>\n",
              "<table border=\"1\" class=\"dataframe\">\n",
              "  <thead>\n",
              "    <tr style=\"text-align: right;\">\n",
              "      <th></th>\n",
              "      <th>Unnamed: 0</th>\n",
              "      <th>MUN</th>\n",
              "      <th>BAIRRO</th>\n",
              "      <th>CEP</th>\n",
              "      <th>CNAE</th>\n",
              "      <th>TENSÃO DE FORNECIMENTO</th>\n",
              "      <th>POTÊNCIA INSTALADA (Kw)</th>\n",
              "      <th>POTÊNCIA CONTRATADA (kW)</th>\n",
              "      <th>DEMANDA MÉDIA (Kw)</th>\n",
              "      <th>ENERGIA MÉDIA (kWh)</th>\n",
              "    </tr>\n",
              "  </thead>\n",
              "  <tbody>\n",
              "    <tr>\n",
              "      <th>0</th>\n",
              "      <td>1</td>\n",
              "      <td>3170206</td>\n",
              "      <td>AREA URBANA</td>\n",
              "      <td>38400000</td>\n",
              "      <td>0</td>\n",
              "      <td>49</td>\n",
              "      <td>76.200</td>\n",
              "      <td>83.8200</td>\n",
              "      <td>23.500000</td>\n",
              "      <td>9793.333333</td>\n",
              "    </tr>\n",
              "    <tr>\n",
              "      <th>1</th>\n",
              "      <td>2</td>\n",
              "      <td>3146107</td>\n",
              "      <td>BARRA</td>\n",
              "      <td>35400000</td>\n",
              "      <td>0</td>\n",
              "      <td>49</td>\n",
              "      <td>5.715</td>\n",
              "      <td>6.2865</td>\n",
              "      <td>11.666667</td>\n",
              "      <td>3820.833333</td>\n",
              "    </tr>\n",
              "    <tr>\n",
              "      <th>2</th>\n",
              "      <td>3</td>\n",
              "      <td>3138203</td>\n",
              "      <td>CAMPUS DA UFLA</td>\n",
              "      <td>37200000</td>\n",
              "      <td>0</td>\n",
              "      <td>49</td>\n",
              "      <td>5.715</td>\n",
              "      <td>6.2865</td>\n",
              "      <td>275.333333</td>\n",
              "      <td>102900.000000</td>\n",
              "    </tr>\n",
              "    <tr>\n",
              "      <th>3</th>\n",
              "      <td>4</td>\n",
              "      <td>3162807</td>\n",
              "      <td>AREA RURAL</td>\n",
              "      <td>39705000</td>\n",
              "      <td>0</td>\n",
              "      <td>49</td>\n",
              "      <td>5.715</td>\n",
              "      <td>6.2865</td>\n",
              "      <td>36.166667</td>\n",
              "      <td>10237.500000</td>\n",
              "    </tr>\n",
              "    <tr>\n",
              "      <th>4</th>\n",
              "      <td>5</td>\n",
              "      <td>3139003</td>\n",
              "      <td>AREA RURAL</td>\n",
              "      <td>37750000</td>\n",
              "      <td>0</td>\n",
              "      <td>49</td>\n",
              "      <td>5.715</td>\n",
              "      <td>6.2865</td>\n",
              "      <td>33.500000</td>\n",
              "      <td>12740.000000</td>\n",
              "    </tr>\n",
              "  </tbody>\n",
              "</table>\n",
              "</div>"
            ],
            "text/plain": [
              "   Unnamed: 0      MUN  ... DEMANDA MÉDIA (Kw)  ENERGIA MÉDIA (kWh)\n",
              "0           1  3170206  ...          23.500000          9793.333333\n",
              "1           2  3146107  ...          11.666667          3820.833333\n",
              "2           3  3138203  ...         275.333333        102900.000000\n",
              "3           4  3162807  ...          36.166667         10237.500000\n",
              "4           5  3139003  ...          33.500000         12740.000000\n",
              "\n",
              "[5 rows x 10 columns]"
            ]
          },
          "metadata": {
            "tags": []
          },
          "execution_count": 6
        }
      ]
    },
    {
      "cell_type": "markdown",
      "metadata": {
        "id": "fKvpkpfyBE51"
      },
      "source": [
        "\n",
        "Normalizing data\n"
      ]
    },
    {
      "cell_type": "code",
      "metadata": {
        "colab": {
          "base_uri": "https://localhost:8080/",
          "height": 204
        },
        "id": "tG2J5DuL5fc-",
        "outputId": "63eabf2d-f638-41d0-8e35-718c6aa43268"
      },
      "source": [
        "columns = ['POT_INST', 'POT_CONT', 'DEM_MÉDIA_P', 'DEM_MÉDIA_F', 'ENERGIA_MÉDIA_P', 'ENERGIA_MÉDIA_F']\n",
        "\n",
        "def normalize(df, columns):\n",
        "    result = df.copy()\n",
        "    max_value = df[columns].max()\n",
        "    min_value = df[columns].min()\n",
        "    result[columns] = (df[columns] - min_value) / (max_value - min_value)\n",
        "    return result\n",
        "\n",
        "df_at_cemig_norm = normalize(df_at_cemig, columns)\n",
        "df_at_cemig_norm.head()"
      ],
      "execution_count": 7,
      "outputs": [
        {
          "output_type": "execute_result",
          "data": {
            "text/html": [
              "<div>\n",
              "<style scoped>\n",
              "    .dataframe tbody tr th:only-of-type {\n",
              "        vertical-align: middle;\n",
              "    }\n",
              "\n",
              "    .dataframe tbody tr th {\n",
              "        vertical-align: top;\n",
              "    }\n",
              "\n",
              "    .dataframe thead th {\n",
              "        text-align: right;\n",
              "    }\n",
              "</style>\n",
              "<table border=\"1\" class=\"dataframe\">\n",
              "  <thead>\n",
              "    <tr style=\"text-align: right;\">\n",
              "      <th></th>\n",
              "      <th>MUN</th>\n",
              "      <th>SUB</th>\n",
              "      <th>BRR</th>\n",
              "      <th>CEP</th>\n",
              "      <th>TEN_FORN</th>\n",
              "      <th>SIT_ATIV</th>\n",
              "      <th>POT_INST</th>\n",
              "      <th>POT_CONT</th>\n",
              "      <th>DEM_MÉDIA_P</th>\n",
              "      <th>DEM_MÉDIA_F</th>\n",
              "      <th>ENERGIA_MÉDIA_P</th>\n",
              "      <th>ENERGIA_MÉDIA_F</th>\n",
              "    </tr>\n",
              "  </thead>\n",
              "  <tbody>\n",
              "    <tr>\n",
              "      <th>0</th>\n",
              "      <td>3121258</td>\n",
              "      <td>11048462</td>\n",
              "      <td>DELTA</td>\n",
              "      <td>38108000</td>\n",
              "      <td>94</td>\n",
              "      <td>AT</td>\n",
              "      <td>0.233799</td>\n",
              "      <td>0.233799</td>\n",
              "      <td>0.245736</td>\n",
              "      <td>0.245736</td>\n",
              "      <td>1.000000</td>\n",
              "      <td>1.000000</td>\n",
              "    </tr>\n",
              "    <tr>\n",
              "      <th>1</th>\n",
              "      <td>3136306</td>\n",
              "      <td>1726735</td>\n",
              "      <td>AREA RURAL</td>\n",
              "      <td>38770000</td>\n",
              "      <td>94</td>\n",
              "      <td>AT</td>\n",
              "      <td>0.058048</td>\n",
              "      <td>0.058048</td>\n",
              "      <td>0.066775</td>\n",
              "      <td>0.066775</td>\n",
              "      <td>0.853292</td>\n",
              "      <td>0.839538</td>\n",
              "    </tr>\n",
              "    <tr>\n",
              "      <th>2</th>\n",
              "      <td>3130705</td>\n",
              "      <td>200233514</td>\n",
              "      <td>AREA URBANA</td>\n",
              "      <td>38490000</td>\n",
              "      <td>94</td>\n",
              "      <td>AT</td>\n",
              "      <td>1.000000</td>\n",
              "      <td>1.000000</td>\n",
              "      <td>1.000000</td>\n",
              "      <td>1.000000</td>\n",
              "      <td>0.522784</td>\n",
              "      <td>0.648242</td>\n",
              "    </tr>\n",
              "    <tr>\n",
              "      <th>3</th>\n",
              "      <td>3127107</td>\n",
              "      <td>1726688</td>\n",
              "      <td>AREA RURAL</td>\n",
              "      <td>38200000</td>\n",
              "      <td>94</td>\n",
              "      <td>AT</td>\n",
              "      <td>0.103314</td>\n",
              "      <td>0.103314</td>\n",
              "      <td>0.056647</td>\n",
              "      <td>0.056647</td>\n",
              "      <td>0.173852</td>\n",
              "      <td>0.000000</td>\n",
              "    </tr>\n",
              "    <tr>\n",
              "      <th>4</th>\n",
              "      <td>3103751</td>\n",
              "      <td>1726567</td>\n",
              "      <td>AREA RURAL</td>\n",
              "      <td>38465000</td>\n",
              "      <td>82</td>\n",
              "      <td>AT</td>\n",
              "      <td>0.057748</td>\n",
              "      <td>0.057748</td>\n",
              "      <td>0.060297</td>\n",
              "      <td>0.060297</td>\n",
              "      <td>0.124221</td>\n",
              "      <td>0.005868</td>\n",
              "    </tr>\n",
              "  </tbody>\n",
              "</table>\n",
              "</div>"
            ],
            "text/plain": [
              "       MUN        SUB  ... ENERGIA_MÉDIA_P  ENERGIA_MÉDIA_F\n",
              "0  3121258   11048462  ...        1.000000         1.000000\n",
              "1  3136306    1726735  ...        0.853292         0.839538\n",
              "2  3130705  200233514  ...        0.522784         0.648242\n",
              "3  3127107    1726688  ...        0.173852         0.000000\n",
              "4  3103751    1726567  ...        0.124221         0.005868\n",
              "\n",
              "[5 rows x 12 columns]"
            ]
          },
          "metadata": {
            "tags": []
          },
          "execution_count": 7
        }
      ]
    },
    {
      "cell_type": "code",
      "metadata": {
        "id": "X77YXKv-Fuv4",
        "outputId": "bc84d247-3305-496b-e9d3-9b9b59927a3c",
        "colab": {
          "base_uri": "https://localhost:8080/"
        }
      },
      "source": [
        "print(columns)"
      ],
      "execution_count": 8,
      "outputs": [
        {
          "output_type": "stream",
          "text": [
            "['POT_INST', 'POT_CONT', 'DEM_MÉDIA_P', 'DEM_MÉDIA_F', 'ENERGIA_MÉDIA_P', 'ENERGIA_MÉDIA_F']\n"
          ],
          "name": "stdout"
        }
      ]
    },
    {
      "cell_type": "markdown",
      "metadata": {
        "id": "v0IlUzHCBKSQ"
      },
      "source": [
        "\n",
        "\n",
        "Visualizing Data\n"
      ]
    },
    {
      "cell_type": "code",
      "metadata": {
        "colab": {
          "base_uri": "https://localhost:8080/",
          "height": 330
        },
        "id": "yC52ohe_4wKa",
        "outputId": "7e9c940a-e3d5-43d4-91d2-9d16252caa2a"
      },
      "source": [
        "plt.figure(1)\n",
        "plt.xticks(rotation=45)\n",
        "\n",
        "sns.set_style(\"whitegrid\")\n",
        "ax = sns.boxplot(data=df_at_cemig_norm, order=columns, width=0.50)\n"
      ],
      "execution_count": 9,
      "outputs": [
        {
          "output_type": "display_data",
          "data": {
            "image/png": "[encoded data removed]",
            "text/plain": [
              "<Figure size 432x288 with 1 Axes>"
            ]
          },
          "metadata": {
            "tags": [],
            "needs_background": "light"
          }
        }
      ]
    }
  ]
}